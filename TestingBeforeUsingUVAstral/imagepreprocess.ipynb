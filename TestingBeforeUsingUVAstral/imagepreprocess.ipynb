{
 "cells": [
  {
   "cell_type": "markdown",
   "metadata": {},
   "source": [
    "Declare openCV package using for image preprocessing"
   ]
  },
  {
   "cell_type": "code",
   "execution_count": 15,
   "metadata": {},
   "outputs": [
    {
     "name": "stdout",
     "output_type": "stream",
     "text": [
      "OpenCV version: 4.10.0\n",
      "Python version: 3.11.10 (main, Oct 16 2024, 04:38:48) [Clang 18.1.8 ]\n"
     ]
    }
   ],
   "source": [
    "import os\n",
    "import cv2\n",
    "import matplotlib.pyplot as plt\n",
    "import sys\n",
    "\n",
    "print(\"OpenCV version:\", cv2.__version__)\n",
    "print(\"Python version:\", sys.version)\n",
    "\n"
   ]
  },
  {
   "cell_type": "code",
   "execution_count": 16,
   "metadata": {},
   "outputs": [],
   "source": [
    "# Paths to your directories\n",
    "train_images_path = \"/home/tairo/UVASTRAL/dev/rice-export/training\"\n",
    "test_images_path = \"/home/tairo/UVASTRAL/dev/rice-export/testing\"\n",
    "train_labels_file = \"/home/tairo/UVASTRAL/dev/rice-export/training/info.labels\"\n",
    "test_labels_file = \"/home/tairo/UVASTRAL/dev/rice-export/testing/info.labels\"\n"
   ]
  },
  {
   "cell_type": "code",
   "execution_count": 17,
   "metadata": {},
   "outputs": [],
   "source": [
    "# Load labels\n",
    "def load_labels(file_path):\n",
    "    with open(file_path, 'r') as file:\n",
    "        return file.read().splitlines()\n",
    "\n",
    "train_labels = load_labels(train_labels_file)\n",
    "test_labels = load_labels(test_labels_file)"
   ]
  },
  {
   "cell_type": "code",
   "execution_count": 18,
   "metadata": {},
   "outputs": [
    {
     "name": "stdout",
     "output_type": "stream",
     "text": [
      "Warning: Mismatch between training images and labels.\n",
      "Warning: Mismatch between testing images and labels.\n",
      "Loaded 0 training images and 0 testing images.\n"
     ]
    }
   ],
   "source": [
    "# Load images\n",
    "def load_images(folder_path, target_size=(64, 64)):\n",
    "    images = []\n",
    "    filenames = sorted(os.listdir(folder_path))  # Sort filenames to match label order\n",
    "    for filename in filenames:\n",
    "        if filename.endswith(\".png\"):  # Only process .png files\n",
    "            img_path = os.path.join(folder_path, filename)\n",
    "            img = cv2.imread(img_path, cv2.IMREAD_COLOR)  # Load image as BGR\n",
    "            if img is not None:\n",
    "                img = cv2.resize(img, target_size)  # Resize to target size\n",
    "                img = img / 255.0  # Normalize to [0, 1]\n",
    "                images.append(img)\n",
    "    return images\n",
    "\n",
    "# Load training and testing images\n",
    "train_images = load_images(train_images_path)\n",
    "test_images = load_images(test_images_path)\n",
    "\n",
    "# Ensure label and image count match\n",
    "if len(train_images) != len(train_labels):\n",
    "    print(\"Warning: Mismatch between training images and labels.\")\n",
    "if len(test_images) != len(test_labels):\n",
    "    print(\"Warning: Mismatch between testing images and labels.\")\n",
    "\n",
    "print(f\"Loaded {len(train_images)} training images and {len(test_images)} testing images.\")"
   ]
  },
  {
   "cell_type": "code",
   "execution_count": 19,
   "metadata": {},
   "outputs": [
    {
     "ename": "IndexError",
     "evalue": "list index out of range",
     "output_type": "error",
     "traceback": [
      "\u001b[0;31m---------------------------------------------------------------------------\u001b[0m",
      "\u001b[0;31mIndexError\u001b[0m                                Traceback (most recent call last)",
      "Cell \u001b[0;32mIn[19], line 8\u001b[0m\n\u001b[1;32m      5\u001b[0m testing_data \u001b[38;5;241m=\u001b[39m \u001b[38;5;28mlist\u001b[39m(\u001b[38;5;28mzip\u001b[39m(test_images, test_labels))\n\u001b[1;32m      7\u001b[0m \u001b[38;5;66;03m# Example: Accessing an image-label pair\u001b[39;00m\n\u001b[0;32m----> 8\u001b[0m example_image, example_label \u001b[38;5;241m=\u001b[39m \u001b[43mtraining_data\u001b[49m\u001b[43m[\u001b[49m\u001b[38;5;241;43m0\u001b[39;49m\u001b[43m]\u001b[49m\n\u001b[1;32m      9\u001b[0m \u001b[38;5;28mprint\u001b[39m(\u001b[38;5;124mf\u001b[39m\u001b[38;5;124m\"\u001b[39m\u001b[38;5;124mLabel: \u001b[39m\u001b[38;5;132;01m{\u001b[39;00mexample_label\u001b[38;5;132;01m}\u001b[39;00m\u001b[38;5;124m\"\u001b[39m)\n",
      "\u001b[0;31mIndexError\u001b[0m: list index out of range"
     ]
    }
   ],
   "source": [
    "# Pair images with labels for training\n",
    "training_data = list(zip(train_images, train_labels))\n",
    "\n",
    "# Pair images with labels for testing\n",
    "testing_data = list(zip(test_images, test_labels))\n",
    "\n",
    "# Example: Accessing an image-label pair\n",
    "example_image, example_label = training_data[0]\n",
    "print(f\"Label: {example_label}\")\n"
   ]
  }
 ],
 "metadata": {
  "kernelspec": {
   "display_name": ".venv",
   "language": "python",
   "name": "python3"
  },
  "language_info": {
   "codemirror_mode": {
    "name": "ipython",
    "version": 3
   },
   "file_extension": ".py",
   "mimetype": "text/x-python",
   "name": "python",
   "nbconvert_exporter": "python",
   "pygments_lexer": "ipython3",
   "version": "3.11.10"
  }
 },
 "nbformat": 4,
 "nbformat_minor": 2
}
