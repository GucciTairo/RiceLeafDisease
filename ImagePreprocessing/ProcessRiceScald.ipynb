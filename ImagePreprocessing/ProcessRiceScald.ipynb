{
 "cells": [
  {
   "cell_type": "code",
   "execution_count": 1,
   "metadata": {},
   "outputs": [],
   "source": [
    "\n",
    "import os\n",
    "from PIL import Image, ImageEnhance\n",
    "import random"
   ]
  },
  {
   "cell_type": "code",
   "execution_count": 2,
   "metadata": {},
   "outputs": [],
   "source": [
    "\n",
    "# Paths to the Train, Validation, and Test directories\n",
    "train_dir = '/home/tairo/UVASTRAL/Test/Train'\n",
    "validation_dir = '/home/tairo/UVASTRAL/Test/Validation'\n",
    "test_dir = '/home/tairo/UVASTRAL/Test/Test'"
   ]
  },
  {
   "cell_type": "code",
   "execution_count": 3,
   "metadata": {},
   "outputs": [],
   "source": [
    "# Resize dimensions\n",
    "resize_dim = (224, 224)\n"
   ]
  },
  {
   "cell_type": "code",
   "execution_count": 4,
   "metadata": {},
   "outputs": [],
   "source": [
    "# Function to apply transformations and save images\n",
    "def process_and_save_images(input_dir):\n",
    "    for subdir, _, files in os.walk(input_dir):\n",
    "        for file in files:\n",
    "            if file.lower().endswith('.jpg'):\n",
    "                file_path = os.path.join(subdir, file)\n",
    "\n",
    "                # Open the image\n",
    "                with Image.open(file_path) as img:\n",
    "                    # Resize image\n",
    "                    img_resized = img.resize(resize_dim)\n",
    "                    # Save the resized image\n",
    "                    img_resized.save(file_path)\n",
    "\n",
    "                    # Perform transformations\n",
    "                    # Flip horizontally\n",
    "                    img_flipped = img_resized.transpose(Image.FLIP_LEFT_RIGHT)\n",
    "                    img_flipped.save(file_path.replace('.jpg', '_flipped.jpg'))\n",
    "\n",
    "                    # Rotate by 30 degrees\n",
    "                    img_rotated = img_resized.rotate(30, expand=True)\n",
    "                    img_rotated.save(file_path.replace('.jpg', '_rotated.jpg'))\n",
    "\n",
    "                    # Enhance brightness\n",
    "                    enhancer = ImageEnhance.Brightness(img_resized)\n",
    "                    img_bright = enhancer.enhance(1.5)\n",
    "                    img_bright.save(file_path.replace('.jpg', '_bright.jpg'))\n",
    "\n",
    "                    # Enhance color\n",
    "                    enhancer_color = ImageEnhance.Color(img_resized)\n",
    "                    img_colored = enhancer_color.enhance(1.2)\n",
    "                    img_colored.save(file_path.replace('.jpg', '_colored.jpg'))"
   ]
  },
  {
   "cell_type": "code",
   "execution_count": 5,
   "metadata": {},
   "outputs": [
    {
     "name": "stdout",
     "output_type": "stream",
     "text": [
      "Image preprocessing and saving completed.\n"
     ]
    }
   ],
   "source": [
    "# Process all directories\n",
    "process_and_save_images(train_dir)\n",
    "process_and_save_images(validation_dir)\n",
    "process_and_save_images(test_dir)\n",
    "\n",
    "print(\"Image preprocessing and saving completed.\")"
   ]
  }
 ],
 "metadata": {
  "kernelspec": {
   "display_name": "uv",
   "language": "python",
   "name": "uv"
  },
  "language_info": {
   "codemirror_mode": {
    "name": "ipython",
    "version": 3
   },
   "file_extension": ".py",
   "mimetype": "text/x-python",
   "name": "python",
   "nbconvert_exporter": "python",
   "pygments_lexer": "ipython3",
   "version": "3.11.10"
  }
 },
 "nbformat": 4,
 "nbformat_minor": 2
}
