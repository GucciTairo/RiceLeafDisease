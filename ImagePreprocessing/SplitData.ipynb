{
 "cells": [
  {
   "cell_type": "markdown",
   "metadata": {},
   "source": [
    "Declare the library to use"
   ]
  },
  {
   "cell_type": "code",
   "execution_count": 7,
   "metadata": {},
   "outputs": [],
   "source": [
    "import os\n",
    "import shutil\n",
    "import random\n"
   ]
  },
  {
   "cell_type": "code",
   "execution_count": 8,
   "metadata": {},
   "outputs": [],
   "source": [
    "# Paths to the Train Validation Test directories\n",
    "train_dir = '/home/tairo/UVASTRAL/Test/Train'\n",
    "validation_dir = '/home/tairo/UVASTRAL/Test/Validation'\n",
    "test_dir = '/home/tairo/UVASTRAL/Test/Test'"
   ]
  },
  {
   "cell_type": "code",
   "execution_count": 9,
   "metadata": {},
   "outputs": [],
   "source": [
    "# Create the Validation directory if it doesn't exist\n",
    "os.makedirs(validation_dir, exist_ok=True)"
   ]
  },
  {
   "cell_type": "code",
   "execution_count": 10,
   "metadata": {},
   "outputs": [],
   "source": [
    "# Set the split ratios\n",
    "train_split = 0.8\n",
    "validation_split = 0.2"
   ]
  },
  {
   "cell_type": "code",
   "execution_count": 11,
   "metadata": {},
   "outputs": [],
   "source": [
    "# Loop through each class folder in Train\n",
    "for class_folder in os.listdir(train_dir):\n",
    "    class_path = os.path.join(train_dir, class_folder)\n",
    "    if not os.path.isdir(class_path):\n",
    "        continue\n",
    "    \n",
    "    # Get all image files in the class folder\n",
    "    images = [img for img in os.listdir(class_path) if os.path.isfile(os.path.join(class_path, img))]\n",
    "    \n",
    "    # Shuffle the images randomly\n",
    "    random.shuffle(images)\n",
    "    \n",
    "    # Calculate the number of images for training and validation\n",
    "    num_images = len(images)\n",
    "    num_train = int(train_split * num_images)\n",
    "    num_validation = int(validation_split * num_images)\n",
    "    \n",
    "    # Split the images\n",
    "    train_images = images[:num_train]\n",
    "    validation_images = images[num_train:num_train + num_validation]\n",
    "    \n",
    "    # Create class subfolder in Validation directory\n",
    "    validation_class_dir = os.path.join(validation_dir, class_folder)\n",
    "    os.makedirs(validation_class_dir, exist_ok=True)\n",
    "    \n",
    "    # Move validation images to the Validation directory\n",
    "    for img in validation_images:\n",
    "        src = os.path.join(class_path, img)\n",
    "        dst = os.path.join(validation_class_dir, img)\n",
    "        shutil.move(src, dst)\n",
    "\n",
    "    print(f\"Class {class_folder}: {len(train_images)} training, {len(validation_images)} validation images\")"
   ]
  },
  {
   "cell_type": "code",
   "execution_count": 12,
   "metadata": {},
   "outputs": [
    {
     "name": "stdout",
     "output_type": "stream",
     "text": [
      "Class-wise image count in the Test folder:\n"
     ]
    }
   ],
   "source": [
    "# Check if the Test directory exists\n",
    "if not os.path.exists(test_dir):\n",
    "    print(f\"Test directory '{test_dir}' does not exist.\")\n",
    "else:\n",
    "    # Iterate through each class folder in Test\n",
    "    print(\"Class-wise image count in the Test folder:\")\n",
    "    for class_folder in os.listdir(test_dir):\n",
    "        class_path = os.path.join(test_dir, class_folder)\n",
    "        if not os.path.isdir(class_path):\n",
    "            continue  # Skip files, process only directories\n",
    "        \n",
    "        # Count the number of image files in the class folder\n",
    "        num_images = len([img for img in os.listdir(class_path) if os.path.isfile(os.path.join(class_path, img))])\n",
    "        \n",
    "        # Print the class name and image count\n",
    "        print(f\"Class {class_folder}: {num_images} images\")"
   ]
  }
 ],
 "metadata": {
  "kernelspec": {
   "display_name": "uv",
   "language": "python",
   "name": "uv"
  },
  "language_info": {
   "codemirror_mode": {
    "name": "ipython",
    "version": 3
   },
   "file_extension": ".py",
   "mimetype": "text/x-python",
   "name": "python",
   "nbconvert_exporter": "python",
   "pygments_lexer": "ipython3",
   "version": "3.11.10"
  }
 },
 "nbformat": 4,
 "nbformat_minor": 2
}
