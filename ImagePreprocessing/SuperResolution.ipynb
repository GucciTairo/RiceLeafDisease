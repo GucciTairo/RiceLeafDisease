{
 "cells": [
  {
   "cell_type": "markdown",
   "metadata": {},
   "source": [
    "Declare the library:"
   ]
  },
  {
   "cell_type": "code",
   "execution_count": 1,
   "metadata": {},
   "outputs": [],
   "source": [
    "import cv2\n",
    "import os"
   ]
  },
  {
   "cell_type": "code",
   "execution_count": 2,
   "metadata": {},
   "outputs": [
    {
     "name": "stdout",
     "output_type": "stream",
     "text": [
      "True\n"
     ]
    }
   ],
   "source": [
    "# Path to the pre-trained model\n",
    "model_path = \"/home/tairo/UVASTRAL/ESPCN_x4.pb\"  # Replace with the correct path to your model file\n",
    "print(os.path.exists(model_path))"
   ]
  },
  {
   "cell_type": "code",
   "execution_count": 3,
   "metadata": {},
   "outputs": [],
   "source": [
    "# Paths to your dataset directories\n",
    "train_dir = \"/home/tairo/UVASTRAL/dev/DataSet/Train\"\n",
    "validation_dir = \"/home/tairo/UVASTRAL/dev/DataSet/Validation\"\n",
    "test_dir = \"/home/tairo/UVASTRAL/dev/DataSet/Test\""
   ]
  },
  {
   "cell_type": "code",
   "execution_count": null,
   "metadata": {},
   "outputs": [],
   "source": [
    "print(cv2.getBuildInformation())\n"
   ]
  },
  {
   "cell_type": "code",
   "execution_count": 4,
   "metadata": {},
   "outputs": [
    {
     "ename": "",
     "evalue": "",
     "output_type": "error",
     "traceback": [
      "\u001b[1;31mThe Kernel crashed while executing code in the current cell or a previous cell. \n",
      "\u001b[1;31mPlease review the code in the cell(s) to identify a possible cause of the failure. \n",
      "\u001b[1;31mClick <a href='https://aka.ms/vscodeJupyterKernelCrash'>here</a> for more info. \n",
      "\u001b[1;31mView Jupyter <a href='command:jupyter.viewOutput'>log</a> for further details."
     ]
    }
   ],
   "source": [
    "def super_resolve_images(directory, model_path, scale=4):\n",
    "    # Load the OpenCV super-resolution model\n",
    "    sr = cv2.dnn_superres.DnnSuperResImpl_create()\n",
    "    sr.readModel(model_path)\n",
    "    sr.setModel(\"espcn\", scale)  # Use ESPCN with the specified scale factor\n",
    "\n",
    "    # Iterate through all classes (subdirectories)\n",
    "    for class_folder in os.listdir(directory):\n",
    "        class_path = os.path.join(directory, class_folder)\n",
    "\n",
    "        if not os.path.isdir(class_path):\n",
    "            continue  # Skip non-directory files\n",
    "\n",
    "        print(f\"Processing class: {class_folder}\")\n",
    "\n",
    "        # Iterate through all images in the class folder\n",
    "        for image_name in os.listdir(class_path):\n",
    "            image_path = os.path.join(class_path, image_name)\n",
    "\n",
    "            if not os.path.isfile(image_path):\n",
    "                continue\n",
    "\n",
    "            try:\n",
    "                # Read the image\n",
    "                img = cv2.imread(image_path)\n",
    "\n",
    "                if img is None:\n",
    "                    print(f\"Failed to read image: {image_path}\")\n",
    "                    continue\n",
    "\n",
    "                # Perform super-resolution\n",
    "                result = sr.upsample(img)\n",
    "\n",
    "                # Overwrite the original image with the super-resolved image\n",
    "                cv2.imwrite(image_path, result)\n",
    "                print(f\"Updated image: {image_path}\")\n",
    "\n",
    "            except Exception as e:\n",
    "                print(f\"Error processing image {image_path}: {e}\")"
   ]
  },
  {
   "cell_type": "code",
   "execution_count": null,
   "metadata": {},
   "outputs": [
    {
     "name": "stdout",
     "output_type": "stream",
     "text": [
      "Processing class: Rice Blast\n"
     ]
    }
   ],
   "source": [
    "# Run super-resolution on each dataset folder\n",
    "super_resolve_images(train_dir, model_path)\n",
    "super_resolve_images(validation_dir, model_path)\n",
    "super_resolve_images(test_dir, model_path)"
   ]
  }
 ],
 "metadata": {
  "kernelspec": {
   "display_name": "uv",
   "language": "python",
   "name": "uv"
  },
  "language_info": {
   "codemirror_mode": {
    "name": "ipython",
    "version": 3
   },
   "file_extension": ".py",
   "mimetype": "text/x-python",
   "name": "python",
   "nbconvert_exporter": "python",
   "pygments_lexer": "ipython3",
   "version": "3.11.10"
  }
 },
 "nbformat": 4,
 "nbformat_minor": 2
}
